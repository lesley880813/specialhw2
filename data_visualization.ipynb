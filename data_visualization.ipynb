{
  "nbformat": 4,
  "nbformat_minor": 5,
  "metadata": {
    "colab": {
      "name": "data_visualization.ipynb",
      "provenance": [],
      "include_colab_link": true
    },
    "kernelspec": {
      "display_name": "Python 3",
      "language": "python",
      "name": "python3"
    },
    "language_info": {
      "codemirror_mode": {
        "name": "ipython",
        "version": 3
      },
      "file_extension": ".py",
      "mimetype": "text/x-python",
      "name": "python",
      "nbconvert_exporter": "python",
      "pygments_lexer": "ipython3",
      "version": "3.7.6"
    }
  },
  "cells": [
    {
      "cell_type": "markdown",
      "metadata": {
        "id": "view-in-github",
        "colab_type": "text"
      },
      "source": [
        "<a href=\"https://colab.research.google.com/github/lesley880813/specialhw2/blob/master/data_visualization.ipynb\" target=\"_parent\"><img src=\"https://colab.research.google.com/assets/colab-badge.svg\" alt=\"Open In Colab\"/></a>"
      ]
    },
    {
      "cell_type": "code",
      "metadata": {
        "id": "b20554c8",
        "colab": {
          "base_uri": "https://localhost:8080/",
          "height": 88
        },
        "outputId": "4a8c69e5-d442-4642-9170-233a8b383cb4"
      },
      "source": [
        "\n",
        " #visualizing data with one channel and only the most significant 4bits of each byte(green channel)\n",
        "from matplotlib import pyplot\n",
        "from tensorflow import keras\n",
        "\n",
        "(trainX, trainy), (testX, testy) = keras.datasets.cifar10.load_data()\n",
        "\n",
        "for i in range(9):\n",
        "\n",
        "    pyplot.subplot(330 + 1 + i)\n",
        "\n",
        "    b = trainX[i].copy()\n",
        "    b[:, :, 0] = 0\n",
        "    b[:, :, 2] = 0\n",
        "    for x in range(0,32):\n",
        "        for y in range(32):\n",
        "            for z in range(3):\n",
        "                b[x][y][z]=b[x][y][z]-(b[x][y][z]%16)\n",
        "    pyplot.imshow(b)\n",
        "\n"
      ],
      "id": "b20554c8",
      "execution_count": 6,
      "outputs": [
        {
          "output_type": "execute_result",
          "data": {
            "application/vnd.google.colaboratory.intrinsic+json": {
              "type": "string"
            },
            "text/plain": [
              "'\\n visualizing data with one channel and only the most significant 4bits of each byte(green channel)\\nfrom matplotlib import pyplot\\nfrom tensorflow import keras\\n\\n(trainX, trainy), (testX, testy) = keras.datasets.cifar10.load_data()\\n\\nfor i in range(9):\\n\\n    pyplot.subplot(330 + 1 + i)\\n\\n    b = trainX[i].copy()\\n    b[:, :, 0] = 0\\n    b[:, :, 2] = 0\\n    for x in range(0,32):\\n        for y in range(32):\\n            for z in range(3):\\n                b[x][y][z]=b[x][y][z]-(b[x][y][z]%16)\\n    pyplot.imshow(b)\\n'"
            ]
          },
          "metadata": {
            "tags": []
          },
          "execution_count": 6
        }
      ]
    },
    {
      "cell_type": "code",
      "metadata": {
        "colab": {
          "base_uri": "https://localhost:8080/",
          "height": 88
        },
        "id": "e33eb702",
        "outputId": "175ae18a-34ea-493b-9c7b-7323cbfb911e"
      },
      "source": [
        "# visualize most significant 4 bits/byte of all three channels and only 16*16*3 pixels\n",
        "\n",
        "from matplotlib import pyplot\n",
        "from tensorflow import keras\n",
        "import numpy\n",
        "\n",
        "(trainX, trainy), (testX, testy) = keras.datasets.cifar10.load_data()\n",
        "\n",
        "for i in range(9):\n",
        "\n",
        "    pyplot.subplot(330 + 1 + i)\n",
        "\n",
        "    b = trainX[i].copy()\n",
        "  \n",
        "    c = b[0:16,0:16,0:3]\n",
        "    pyplot.imshow(b)\n",
        "    \n",
        "    for x in range(0,16):\n",
        "        for y in range(0,16):\n",
        "            for z in range(0,3):\n",
        "                c[x][y][z]=b[2*x][2*y][z]-(b[2*x][2*y][z]%16)\n",
        "    pyplot.imshow(c)\n",
        "    \n",
        "  \n"
      ],
      "id": "e33eb702",
      "execution_count": 7,
      "outputs": [
        {
          "output_type": "execute_result",
          "data": {
            "application/vnd.google.colaboratory.intrinsic+json": {
              "type": "string"
            },
            "text/plain": [
              "'\\nfrom matplotlib import pyplot\\nfrom tensorflow import keras\\nimport numpy\\n\\n(trainX, trainy), (testX, testy) = keras.datasets.cifar10.load_data()\\n\\nfor i in range(9):\\n\\n    pyplot.subplot(330 + 1 + i)\\n\\n    b = trainX[i].copy()\\n  \\n    c = b[0:16,0:16,0:3]\\n    pyplot.imshow(b)\\n    \\n    for x in range(0,16):\\n        for y in range(0,16):\\n            for z in range(0,3):\\n                c[x][y][z]=b[2*x][2*y][z]-(b[2*x][2*y][z]%16)\\n    pyplot.imshow(c)\\n    \\n  '"
            ]
          },
          "metadata": {
            "tags": []
          },
          "execution_count": 7
        }
      ]
    },
    {
      "cell_type": "code",
      "metadata": {
        "id": "4ee3f460",
        "colab": {
          "base_uri": "https://localhost:8080/",
          "height": 54
        },
        "outputId": "15d83fe4-f1b2-4193-ba92-d4ff20ad235d"
      },
      "source": [
        "# original data\n",
        "\n",
        "(trainX, trainy), (testX, testy) = keras.datasets.cifar10.load_data()\n",
        "\n",
        "\n",
        "for i in range(9):\n",
        "\n",
        "    pyplot.subplot(330 + 1 + i)\n",
        "\n",
        "    b = trainX[i].copy()\n",
        "    pyplot.imshow(b)\n",
        "\n",
        "\n",
        "\n",
        "\n"
      ],
      "id": "4ee3f460",
      "execution_count": 8,
      "outputs": [
        {
          "output_type": "execute_result",
          "data": {
            "application/vnd.google.colaboratory.intrinsic+json": {
              "type": "string"
            },
            "text/plain": [
              "'\\n(trainX, trainy), (testX, testy) = keras.datasets.cifar10.load_data()\\n\\n\\nfor i in range(9):\\n\\n    pyplot.subplot(330 + 1 + i)\\n\\n    b = trainX[i].copy()\\n    pyplot.imshow(b)\\n'"
            ]
          },
          "metadata": {
            "tags": []
          },
          "execution_count": 8
        }
      ]
    }
  ]
}