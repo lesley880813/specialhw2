{
 "cells": [
  {
   "cell_type": "code",
   "execution_count": 2,
   "metadata": {
    "scrolled": true
   },
   "outputs": [
    {
     "name": "stdout",
     "output_type": "stream",
     "text": [
      "[-3.7703250015808925, -0.9729468760347317, -0.8538350929261997, -0.8101816487157325, -0.7892042044526507, -0.7781356861606914, -0.7720198811351389, -0.7685477407265007, -0.7665424453931017, -0.765371171677885, -0.7646817483104589, -0.7642737296646813, -0.7640312937345681, -0.7638868168143527, -0.763800524001184, -0.763748894311487, -0.7637179625727264, -0.7636994118556051, -0.7636882773792896, -0.7636815900157379]\n",
      "[-7.100926187782794, -1.502889880173885, -1.1983067056725087, -1.0697281924654485, -0.9974597331178949, -0.9508466594303088, -0.9181707328319894, -0.8939534967401168, -0.8752918861141329, -0.8605046184271798, -0.8485474927728633, -0.8387330468540628, -0.8305858737372154, -0.8237635173468645, -0.8180109809024327, -0.8131332986495322, -0.8089782398748543, -0.8054249376157326, -0.8023761264376191, -0.7997526674991896]\n",
      "[-10.43334329892582, -2.0583161706900994, -1.5879652840027763, -1.3799772911422024, -1.2578955741022135, -1.1764226791383399, -1.1177970425125452, -1.0734307901132802, -1.0386080293215987, -1.0105051168761647, -0.987321249730384, -0.9678511348140592, -0.9512566611836013, -0.9369367185350607, -0.9244489811428847, -0.9134608288640379, -0.9037174065884366, -0.8950201867101318, -0.8872122014758992, -0.8801676439720527]\n",
      "[-13.766217482363333, -2.6147426852025677, -1.9835333875492853, -1.702227965549563, -1.534789330865826, -1.4211545336534543, -1.3380004867741428, -1.27408719726783, -1.2232232462073038, -1.1816739141935386, -1.1470335790097517, -1.1176738651785014, -1.0924487889122019, -1.0705261522103817, -1.0512857806988698, -1.0342553445712996, -1.019068377565764, -1.0054359568330633, -0.9931270873918142, -0.981954800905524]\n"
     ]
    },
    {
     "data": {
      "image/png": "[encoded data removed]",
      "text/plain": [
       "<Figure size 432x288 with 1 Axes>"
      ]
     },
     "metadata": {
      "needs_background": "light"
     },
     "output_type": "display_data"
    }
   ],
   "source": [
    "import numpy as np\n",
    "from mpl_toolkits.mplot3d import axes3d\n",
    "import matplotlib.pyplot as plt\n",
    "%matplotlib inline\n",
    "\n",
    "#設m為奇數\n",
    "#n=401#將縱軸切為n等分\n",
    "#m=1001#將橫軸切為m等分\n",
    "for s in [(41,111),(81,221),(121,331),(161,441)]:\n",
    "    n=s[0]\n",
    "    m=s[1]\n",
    "    array = np.zeros(s)\n",
    "    abcd=[[1.5,2.5],[4.0,5.0],[6.0,7.0],[8.5,9.0]]\n",
    "    abcd=[[x*(m-1)/11 for x in y] for y in abcd]\n",
    "\n",
    "    #設定起始值\n",
    "    for i in range(m):\n",
    "\n",
    "        if(i>=abcd[1][0] and i<=abcd[1][1]):\n",
    "            array[int((n-1)/2)][i]=0.5\n",
    "           # print(\"array[\",int((n-1)/2),\"][\",i,\"]=\",array[int((n-1)/2)][i])\n",
    "\n",
    "        elif(i>=abcd[2][0] and i<=abcd[2][1]):\n",
    "\n",
    "            array[int((n-1)/2)][i]=-0.5\n",
    "           # print(\"array[\",int((n-1)/2),\"][\",i,\"]=\",array[int((n-1)/2)][i])\n",
    "\n",
    "    #print(\"during operation:\")\n",
    "    mylist=[]\n",
    "    for total_iter in [1000]:\n",
    "        totalcharge=0\n",
    "        for iterate in range(total_iter):\n",
    "            #橫\n",
    "            for j in range(int((n-1)/2),0,-1):\n",
    "                #縱\n",
    "                for i in range(1,int((m+1)/2)):\n",
    "                    if(j==((n-1)/2)):\n",
    "                        if( (i>=abcd[1][0] and i<=abcd[1][1] ) or (i>=abcd[2][0] and i<=abcd[2][1]) or (i>=abcd[3][0] and i<=abcd[3][1]) or (i>=abcd[0][0] and i<=abcd[0][1])):\n",
    "                            #print(\"array[\",j,\"][\",i,\"]=\",array[j][i])\n",
    "                            continue\n",
    "\n",
    "                    array[j][i]=(array[j][i+1]+array[j][i-1]+array[j-1][i]+array[j+1][i])/4\n",
    "                    array[j][m-i-1]=(-array[j][i])\n",
    "                    array[n-j-1][i]=array[j][i]\n",
    "                    array[n-j-1][m-i-1]=(-array[j][i])\n",
    "                    #print(\"array[\",j,\"][\",i,\"]=\",array[j][i])\n",
    "           # print(array)\n",
    "       \n",
    "            if(iterate%50==0):\n",
    "                totalcharge=0   \n",
    "                for point in range(1,m-1):\n",
    "                    if(point>=abcd[1][0] and point<=abcd[1][1]):\n",
    "                        #4mm/(m等分)\n",
    "                        #print(\"iterate=\",iterate)\n",
    "                        #print(\"array[\",int((n-1)/2+1),\"][\",point,\"]=\",array[int((n-1)/2+1)][point])\n",
    "                        #print(\"array[\",int((n-1)/2),\"][\",point,\"]=\",array[int((n-1)/2)][point])\n",
    "                        totalcharge=totalcharge+(array[int((n-1)/2+1)][point]-array[int((n-1)/2)][point])/(4/n)*(11/m)\n",
    "                mylist.append(totalcharge*2)\n",
    "       \n",
    "       # print(totalcharge*2)\n",
    "        #print(mylist)\n",
    "        #print(array)\n",
    "        plt.plot([50,100,150,200,250,300,350,400,450,500,550,600,650,700,750,800,850,900,950,1000],mylist) \n",
    "        \n"
   ]
  },
  {
   "cell_type": "code",
   "execution_count": null,
   "metadata": {},
   "outputs": [],
   "source": []
  }
 ],
 "metadata": {
  "kernelspec": {
   "display_name": "Python 3",
   "language": "python",
   "name": "python3"
  },
  "language_info": {
   "codemirror_mode": {
    "name": "ipython",
    "version": 3
   },
   "file_extension": ".py",
   "mimetype": "text/x-python",
   "name": "python",
   "nbconvert_exporter": "python",
   "pygments_lexer": "ipython3",
   "version": "3.7.1"
  }
 },
 "nbformat": 4,
 "nbformat_minor": 2
}
